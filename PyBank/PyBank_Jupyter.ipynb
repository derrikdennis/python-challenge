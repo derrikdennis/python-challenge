{
 "metadata": {
  "language_info": {
   "codemirror_mode": {
    "name": "ipython",
    "version": 3
   },
   "file_extension": ".py",
   "mimetype": "text/x-python",
   "name": "python",
   "nbconvert_exporter": "python",
   "pygments_lexer": "ipython3",
   "version": "3.8.6-final"
  },
  "orig_nbformat": 2,
  "kernelspec": {
   "name": "Python 3.8.6 64-bit",
   "display_name": "Python 3.8.6 64-bit",
   "metadata": {
    "interpreter": {
     "hash": "842a0dd7066587c0bc8ae30c946e4d133900298ba2a346661a6b6874274a7b63"
    }
   }
  }
 },
 "nbformat": 4,
 "nbformat_minor": 2,
 "cells": [
  {
   "source": [
    "# Re-doing Python Challenge using Jupyter Notebooks"
   ],
   "cell_type": "markdown",
   "metadata": {}
  },
  {
   "source": [
    "## PyBank Challenge"
   ],
   "cell_type": "markdown",
   "metadata": {}
  },
  {
   "cell_type": "code",
   "execution_count": 4,
   "metadata": {},
   "outputs": [],
   "source": [
    "# Importing csv library\n",
    "\n",
    "import csv"
   ]
  },
  {
   "cell_type": "code",
   "execution_count": 5,
   "metadata": {},
   "outputs": [],
   "source": [
    "#Creating the variable csvpath\n",
    "\n",
    "csvpath = \"Resources/budget_data.csv\""
   ]
  },
  {
   "cell_type": "code",
   "execution_count": 7,
   "metadata": {},
   "outputs": [
    {
     "output_type": "execute_result",
     "data": {
      "text/plain": [
       "['Date', 'Profit/Losses']"
      ]
     },
     "metadata": {},
     "execution_count": 7
    }
   ],
   "source": [
    "# Reading in the file.  I am also setting my values to start that I will use.\n",
    "with open(csvpath) as csvfile:\n",
    "    csvreader=csv.reader(csvfile,delimiter = ',')\n",
    "    csv_header = next(csvreader)    \n",
    "\n",
    "    Month = []\n",
    "    PL = []\n",
    "    PL_chg = []\n",
    "    TotalPL = 0\n",
    "    max_PL_chg = 0\n",
    "    min_PL_chg = 0\n",
    "    max_PL_Month = ' '\n",
    "    min_PL_Month = ' '\n",
    "\n",
    "csv_header"
   ]
  },
  {
   "cell_type": "code",
   "execution_count": null,
   "metadata": {},
   "outputs": [],
   "source": []
  }
 ]
}