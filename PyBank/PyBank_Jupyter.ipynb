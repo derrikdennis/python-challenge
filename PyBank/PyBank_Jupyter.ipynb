{
 "metadata": {
  "language_info": {
   "codemirror_mode": {
    "name": "ipython",
    "version": 3
   },
   "file_extension": ".py",
   "mimetype": "text/x-python",
   "name": "python",
   "nbconvert_exporter": "python",
   "pygments_lexer": "ipython3",
   "version": "3.8.6-final"
  },
  "orig_nbformat": 2,
  "kernelspec": {
   "name": "Python 3.8.6 64-bit",
   "display_name": "Python 3.8.6 64-bit",
   "metadata": {
    "interpreter": {
     "hash": "842a0dd7066587c0bc8ae30c946e4d133900298ba2a346661a6b6874274a7b63"
    }
   }
  }
 },
 "nbformat": 4,
 "nbformat_minor": 2,
 "cells": [
  {
   "source": [
    "# Re-doing Python Challenge using Jupyter Notebooks"
   ],
   "cell_type": "markdown",
   "metadata": {}
  },
  {
   "source": [
    "## PyBank Challenge"
   ],
   "cell_type": "markdown",
   "metadata": {}
  },
  {
   "cell_type": "code",
   "execution_count": 1,
   "metadata": {},
   "outputs": [],
   "source": [
    "# Importing csv library\n",
    "\n",
    "import csv"
   ]
  },
  {
   "cell_type": "code",
   "execution_count": 2,
   "metadata": {},
   "outputs": [],
   "source": [
    "#Creating the variable csvpath\n",
    "\n",
    "csvpath = \"Resources/budget_data.csv\""
   ]
  },
  {
   "cell_type": "code",
   "execution_count": 4,
   "metadata": {
    "tags": []
   },
   "outputs": [],
   "source": [
    "# Reading in the file.  I am also setting my values to start that I will use.\n",
    "with open(csvpath) as csvfile:\n",
    "    csvreader = csv.reader(csvfile, delimiter=',')\n",
    "    csv_header = next(csvreader)\n",
    "\n",
    "    Month = []\n",
    "    profitLoss = []\n",
    "    profitLossChange = []\n",
    "    totalProfitLoss = 0\n",
    "    maxProfitLossChange = 0\n",
    "    minProfitLossChange = 0\n",
    "    maxProfitLossMonth = ' '\n",
    "    minProfitLossMonth = ' '\n",
    "\n",
    "# for every row, I am appending my local list to include the Month, the Profit/loss and the Total Profit/Loss\n",
    "    for row in csvreader:\n",
    "        Month.append(row[0])\n",
    "        profitLoss.append(float(row[1]))\n",
    "        totalProfitLoss += float(row[1])\n",
    "\n",
    "# This will give me the change month-over-month for profit/loss.\n",
    "# It will also identify when I had the maximum and minimum months for profit/loss\n",
    "    for x in range(1, len(profitLoss)):\n",
    "        profitLossChange.append(profitLoss[x] - profitLoss[x-1])\n",
    "        if (profitLoss[x] - profitLoss[x-1]) > maxProfitLossChange:\n",
    "            maxProfitLossChange = (profitLoss[x] - profitLoss[x-1])\n",
    "            maxProfitLossMonth = Month[x]\n",
    "        if (profitLoss[x] - profitLoss[x-1]) < minProfitLossChange:\n",
    "            minProfitLossChange = (profitLoss[x] - profitLoss[x-1])\n",
    "            minProfitLossMonth = Month[x]\n",
    "\n",
    "# Now I am figuring out what is the average change in profit/loss\n",
    "    averageProfitLossChange = round(\n",
    "        sum(profitLossChange) / len(profitLossChange), 2)"
   ]
  },
  {
   "cell_type": "code",
   "execution_count": 5,
   "metadata": {},
   "outputs": [
    {
     "output_type": "stream",
     "name": "stdout",
     "text": [
      "Financial Analysis\n ----------------------------\nTotal Months: 86\nTotal Revenue: $38,382,578.00\nAverage Revenue Change: $-2,315.12\nGreatest Increase in Profits: Feb-2012 $1,926,159.00\nGreatest Decrease in Profits: Sep-2013  $-2,196,167.00\n"
     ]
    }
   ],
   "source": [
    "# This will print out to the terminal my findings\n",
    "print(\"Financial Analysis\")\n",
    "print(\" ----------------------------\")\n",
    "print(\"Total Months: \" + str(len(Month)))\n",
    "print(\"Total Revenue: \" + '${:,.2f}'.format(totalProfitLoss))\n",
    "print(\"Average Revenue Change: \" + '${:,.2f}'.format(averageProfitLossChange))\n",
    "print(\"Greatest Increase in Profits: \" + str(maxProfitLossMonth) +\n",
    "      \" \" + '${:,.2f}'.format(maxProfitLossChange))\n",
    "print(\"Greatest Decrease in Profits: \" + str(minProfitLossMonth) +\n",
    "      \"  \" + '${:,.2f}'.format(minProfitLossChange))"
   ]
  },
  {
   "cell_type": "code",
   "execution_count": null,
   "metadata": {},
   "outputs": [],
   "source": []
  }
 ]
}